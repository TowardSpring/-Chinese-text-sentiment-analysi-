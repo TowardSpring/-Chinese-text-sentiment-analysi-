{
 "cells": [
  {
   "cell_type": "code",
   "execution_count": 1,
   "metadata": {},
   "outputs": [
    {
     "name": "stdout",
     "output_type": "stream",
     "text": [
      "数据加载完成\n"
     ]
    }
   ],
   "source": [
    "#导入数据\n",
    "import json\n",
    "\n",
    "file_name = r'D:\\文本情感分析\\wiki_word_list.json'\n",
    "with open (file_name,'rb') as f:\n",
    "    words_list = json.load(f)\n",
    "    \n",
    "file_name = r'D:\\文本情感分析\\wiki_words_vector.json'\n",
    "with open (file_name,'rb') as f:\n",
    "    words_vector = json.load(f)\n",
    "    \n",
    "print(\"数据加载完成\")\n"
   ]
  },
  {
   "cell_type": "code",
   "execution_count": 2,
   "metadata": {},
   "outputs": [
    {
     "name": "stdout",
     "output_type": "stream",
     "text": [
      "数据格式转换完成\n"
     ]
    }
   ],
   "source": [
    "import numpy as np\n",
    "words_list = np.array(words_list)\n",
    "words_vector = np.array(words_vector)\n",
    "print(\"数据格式转换完成\")"
   ]
  },
  {
   "cell_type": "code",
   "execution_count": 14,
   "metadata": {},
   "outputs": [
    {
     "name": "stdout",
     "output_type": "stream",
     "text": [
      "数据截断完成\n"
     ]
    }
   ],
   "source": [
    "#语言模型太大了，截断，只取前10000个词\n",
    "words_list = words_list[0:10000]\n",
    "words_vector = words_vector[0:10000]\n",
    "print(\"数据截断完成\")"
   ]
  },
  {
   "cell_type": "code",
   "execution_count": 15,
   "metadata": {},
   "outputs": [
    {
     "name": "stdout",
     "output_type": "stream",
     "text": [
      "评论的平均长度 46.89050992165877\n"
     ]
    },
    {
     "data": {
      "image/png": "[encoded data removed]",
      "text/plain": [
       "<Figure size 432x288 with 1 Axes>"
      ]
     },
     "metadata": {
      "needs_background": "light"
     },
     "output_type": "display_data"
    }
   ],
   "source": [
    "#分词\n",
    "import numpy as np\n",
    "import jieba\n",
    "import matplotlib.pyplot as plt\n",
    "#句子长度列表\n",
    "sentence_lens = []\n",
    "\n",
    "file_name = r'D:\\文本情感分析\\test_sentiment.txt'\n",
    "\n",
    "#读取测试集样本和标签\n",
    "with open(file_name,'rb') as f:\n",
    "    lines = f.readlines()\n",
    "    \n",
    "test_sample = []    #测试集样本\n",
    "test_label = []     #测试集标签\n",
    "\n",
    "for line in lines:\n",
    "    line = line.split()\n",
    "    test_str = line[1].decode()        #decode表示将数据解码，从bytes转换成utf-8格式\n",
    "    test_str = jieba.lcut(test_str,cut_all = False)   #对评论进行分词，以列表的形式进行保存\n",
    "    test_sample.append(test_str)    \n",
    "    test_label.append(line[2].decode())\n",
    "    sentence_lens.append(len(test_str))\n",
    "    \n",
    "#读取训练集样本和标签  \n",
    "\n",
    "file_name = r'D:\\文本情感分析\\train_sentiment.txt'\n",
    " \n",
    "with open(file_name,'rb') as f:\n",
    "    lines = f.readlines()\n",
    "    \n",
    "train_sample = []    #测试集样本\n",
    "train_label = []     #测试集标签\n",
    "\n",
    "for line in lines:\n",
    "    line = line.split()\n",
    "    train_str = line[1].decode()        #decode表示将数据解码，从bytes转换成utf-8格式\n",
    "    train_str = jieba.lcut(train_str,cut_all = False)   #对评论进行分词，以列表的形式进行保存\n",
    "    train_sample.append(train_str)\n",
    "    train_label.append(line[2].decode())\n",
    "    sentence_lens.append(len(train_str))\n",
    "    \n",
    "    \n",
    "    \n",
    "#输出句子的平均长度\n",
    "sentence_ave_len = np.mean(np.array(sentence_lens))\n",
    "print('评论的平均长度',sentence_ave_len)   #最终长度取50\n",
    "\n",
    "plt.hist(sentence_lens,50)\n",
    "plt.xlabel('Sentence length')\n",
    "plt.ylabel('Frequency')\n",
    "plt.axis([0,120,0,2000])\n",
    "plt.show()"
   ]
  },
  {
   "cell_type": "code",
   "execution_count": 24,
   "metadata": {},
   "outputs": [],
   "source": [
    "#word2ids\n",
    "max_seq_len = 60\n",
    "\n",
    "#words_list格式转换\n",
    "words_list = words_list.tolist()\n",
    "\n",
    "\n",
    "#训练数据的id转换\n",
    "ids_train = np.zeros((len(train_sample),max_seq_len),dtype='int32')\n",
    "sample_counter = 0  #下一个循环中，样本在样本集中的编号\n",
    "\n",
    "for line in train_sample:\n",
    "    index_counter = 0   #下一个循环中，单词在该单个样本中的编号\n",
    "    \n",
    "    for word in line:\n",
    "        try:\n",
    "            word_index = words_list.index(word)\n",
    "            ids_train[sample_counter][index_counter] = word_index\n",
    "            \n",
    "        except ValueError:\n",
    "            ids_train[sample_counter][index_counter] = 9999  #统一对语言模型中没有的词复制一个一样的词\n",
    "            \n",
    "        index_counter = index_counter + 1\n",
    "        \n",
    "        if index_counter >= max_seq_len:    #若一个评论中的单词书大于平均长度，则截断\n",
    "            break\n",
    "        \n",
    "    sample_counter = sample_counter + 1\n",
    "\n",
    "\n",
    "#测试数据的id转换\n",
    "ids_test = np.zeros((len(test_sample),max_seq_len),dtype='int32')\n",
    "sample_counter = 0  #下一个循环中，样本在样本集中的编号\n",
    "\n",
    "for line in test_sample:\n",
    "    index_counter = 0   #下一个循环中，单词在该单个样本中的编号\n",
    "    \n",
    "    for word in line:\n",
    "        try:\n",
    "            word_index = words_list.index(word)\n",
    "            ids_test[sample_counter][index_counter] = word_index\n",
    "            \n",
    "        except ValueError:\n",
    "            ids_test[sample_counter][index_counter] = 9999  #统一对语言模型中没有的词复制一个一样的词\n",
    "            \n",
    "        index_counter = index_counter + 1\n",
    "        \n",
    "        if index_counter >= max_seq_len:    #若一个评论中的单词书大于平均长度，则截断\n",
    "            break\n",
    "        \n",
    "    sample_counter = sample_counter + 1\n",
    "        \n",
    "#保存数据ids_train,ids_test\n",
    "file_name = r'D:\\文本情感分析\\ids_train.npy'\n",
    "np.save(file_name,ids_train)\n",
    "\n",
    "file_name = r'D:\\文本情感分析\\ids_test.npy'\n",
    "np.save(file_name,ids_test)\n",
    "\n",
    "#words_list格式转换\n",
    "words_list = np.array(words_list)"
   ]
  },
  {
   "cell_type": "code",
   "execution_count": 4,
   "metadata": {},
   "outputs": [
    {
     "name": "stdout",
     "output_type": "stream",
     "text": [
      "数据加载完成\n"
     ]
    }
   ],
   "source": [
    "#加载word2ids数据（上面cell的程序跑起来比较慢，可以直接加载之前训练好的数据）\n",
    "ids_train = np.load(r'D:\\文本情感分析\\ids_train.npy')\n",
    "ids_test = np.load(r'D:\\文本情感分析\\ids_test.npy')\n",
    "print(\"数据加载完成\")"
   ]
  },
  {
   "cell_type": "code",
   "execution_count": 71,
   "metadata": {},
   "outputs": [],
   "source": [
    "#重新设计batch数据读取\n",
    "vector_dim = 300\n",
    "#训练数据词向量整合\n",
    "total_train_data = np.zeros([len(ids_train),max_seq_len,vector_dim],dtype = np.float32)\n",
    "for i in range(len(ids_train)):\n",
    "    sentence_word_id = ids_train[i]   #每个句子的id表示向量\n",
    "    for j in range(len(sentence_word_id)):\n",
    "        solo_word_vector = words_vector[sentence_word_id[j]]  #每个句子中的一个词的词向量\n",
    "        total_train_data[i][j][:] = solo_word_vector\n",
    "\n",
    "\n"
   ]
  },
  {
   "cell_type": "code",
   "execution_count": 74,
   "metadata": {},
   "outputs": [],
   "source": [
    "#训练数据特征整合\n",
    "total_train_labels = np.array(train_label)"
   ]
  },
  {
   "cell_type": "code",
   "execution_count": 107,
   "metadata": {},
   "outputs": [],
   "source": [
    "#测试数据\n",
    "total_test_data = np.zeros([len(ids_test),max_seq_len,vector_dim],dtype = np.float32)\n",
    "for i in range(len(ids_test)):\n",
    "    sentence_word_id = ids_test[i]   #每个句子的id表示向量\n",
    "    for j in range(len(sentence_word_id)):\n",
    "        solo_word_vector = words_vector[sentence_word_id[j]]  #每个句子中的一个词的词向量\n",
    "        total_test_data[i][j][:] = solo_word_vector\n",
    "        \n",
    "#测试数据标签\n",
    "total_test_labels = np.array(test_label)"
   ]
  },
  {
   "cell_type": "code",
   "execution_count": 76,
   "metadata": {},
   "outputs": [
    {
     "data": {
      "text/plain": [
       "'\\ntf.data.Dataset.from_tensor_slices（）函数的参数是tensor。\\n该函数的作用是接收tensor，对tensor的第一维度进行切分，并返回一个表示该tensor的切片数据集\\n以minist训练集为例：\\nx的shape为（60000,28,28），将x作为参数传递给tf.data.Dataset.from_tensor_slices（），\\n将返回一个含有60000个切片的数据集，每个切片为 28*28 的图像（但数据集不知道里面有多少个切片）。\\n\\nrepeat:重复此数据集count次数\\n\\nshuffle:\\n   随机混洗数据集的元素。\\n\\n   函数形式：shuffle(buffer_size,seed=None,reshuffle_each_iteration=None)\\n\\n     参数buffer_size:表示新数据集将从中采样的数据集中的元素数。\\n     参数seed:(可选）表示将用于创建分布的随机种子。\\n     参数reshuffle_each_iteration:(可选）一个布尔值，如果为true，则表示每次迭代时都应对数据集进行伪随机重组。（默认为True。）\\n     \\nbatch:\\n\\nbatch可以将数据集的连续元素合成批次。\\n\\n   函数形式：batch(batch_size,drop_remainder=False)\\n\\n   参数batch_size:表示要在单个批次中合并的此数据集的连续元素个数。\\n   参数drop_remainder：表示在少于batch_size元素的情况下是否应删除最后一批 ; 默认是不删除。\\n   \\n'"
      ]
     },
     "execution_count": 76,
     "metadata": {},
     "output_type": "execute_result"
    }
   ],
   "source": [
    "#重新设计batch数据读取\n",
    "# Use tf.data API to shuffle and batch data.\n",
    "train_data = tf.data.Dataset.from_tensor_slices((total_train_data, total_train_labels))\n",
    "train_data = train_data.repeat().shuffle(5000).batch(batch_size).prefetch(1)\n"
   ]
  },
  {
   "cell_type": "code",
   "execution_count": 128,
   "metadata": {},
   "outputs": [
    {
     "name": "stdout",
     "output_type": "stream",
     "text": [
      "参数初始化完成\n"
     ]
    }
   ],
   "source": [
    "#定义模型初始化系数（超参数设定）\n",
    "\n",
    "# dataset parameters.\n",
    "num_classes = 3 # 三分类.\n",
    "#num_features = 60*300 # data features (shape: word60*vector300).\n",
    "vector_dim = 300\n",
    "max_seq_len = 60\n",
    "\n",
    "# Training Parameters\n",
    "learning_rate = 0.001\n",
    "training_steps = 60000\n",
    "batch_size = 32\n",
    "display_step = 1000\n",
    "\n",
    "num_units = 32  # number of neurons for the LSTM layer.\n",
    "\n",
    "print(\"参数初始化完成\")"
   ]
  },
  {
   "cell_type": "code",
   "execution_count": 129,
   "metadata": {},
   "outputs": [
    {
     "name": "stdout",
     "output_type": "stream",
     "text": [
      "实例化完成\n"
     ]
    }
   ],
   "source": [
    "#构建LSTM模型\n",
    "from tensorflow.keras import Model, layers\n",
    "\n",
    "class LSTM(Model):\n",
    "    # Set layers.\n",
    "    def __init__(self):\n",
    "        super(LSTM, self).__init__()\n",
    "        # RNN (LSTM) hidden layer.\n",
    "        self.lstm_layer = layers.LSTM(units=num_units)  #,return_sequences=True)\n",
    "        self.out = layers.Dense(num_classes)\n",
    "\n",
    "    # Set forward pass.\n",
    "    def call(self, x, is_training=False):\n",
    "        # LSTM layer.\n",
    "        x = self.lstm_layer(x)\n",
    "        # Output layer (num_classes).\n",
    "        x = self.out(x)\n",
    "        if not is_training:\n",
    "            # tf cross entropy expect logits without softmax, so only\n",
    "            # apply softmax when not training.\n",
    "            x = tf.nn.softmax(x)\n",
    "        return x\n",
    "\n",
    "# Build LSTM model.\n",
    "lstm_net = LSTM()  #实例化\n",
    "\n",
    "print(\"实例化完成\")"
   ]
  },
  {
   "cell_type": "code",
   "execution_count": 130,
   "metadata": {},
   "outputs": [
    {
     "name": "stdout",
     "output_type": "stream",
     "text": [
      "损失函数、精度和优化器定义完成\n"
     ]
    }
   ],
   "source": [
    "# Cross-Entropy Loss.\n",
    "# Note that this will apply 'softmax' to the logits.\n",
    "def cross_entropy_loss(x, y):\n",
    "    # Convert labels to int 64 for tf cross-entropy function.\n",
    "    y = tf.cast(y, tf.int64)   #将y的数据格式转化成dtype数据类型\n",
    "    # Apply softmax to logits and compute cross-entropy.\n",
    "    loss = tf.nn.sparse_softmax_cross_entropy_with_logits(labels=y, logits=x)\n",
    "    # Average loss across the batch.\n",
    "    return tf.reduce_mean(loss)\n",
    "\n",
    "# Accuracy metric.\n",
    "def accuracy(y_pred, y_true):\n",
    "    # Predicted class is the index of highest score in prediction vector (i.e. argmax).\n",
    "    correct_prediction = tf.equal(tf.argmax(y_pred, 1), tf.cast(y_true, tf.int64))\n",
    "    return tf.reduce_mean(tf.cast(correct_prediction, tf.float32), axis=-1)\n",
    "\n",
    "# Adam optimizer.\n",
    "optimizer = tf.optimizers.Adam(learning_rate)\n",
    "\n",
    "print('损失函数、精度和优化器定义完成')"
   ]
  },
  {
   "cell_type": "code",
   "execution_count": 131,
   "metadata": {},
   "outputs": [
    {
     "name": "stdout",
     "output_type": "stream",
     "text": [
      "训练流程定义完成\n"
     ]
    }
   ],
   "source": [
    "# Optimization process. 训练过程\n",
    "def run_optimization(x, y):\n",
    "    # Wrap computation inside a GradientTape for automatic differentiation.\n",
    "    with tf.GradientTape() as g:\n",
    "        # Forward pass.\n",
    "        pred = lstm_net(x, is_training=True)\n",
    "        \n",
    "        # Compute loss.\n",
    "        loss = cross_entropy_loss(pred, y)\n",
    "        \n",
    "    # Variables to update, i.e. trainable variables.\n",
    "    trainable_variables = lstm_net.trainable_variables\n",
    "\n",
    "    # Compute gradients.\n",
    "    gradients = g.gradient(loss, trainable_variables)\n",
    "    \n",
    "    # Update weights following gradients.\n",
    "    optimizer.apply_gradients(zip(gradients, trainable_variables))\n",
    "    \n",
    "print('训练流程定义完成')"
   ]
  },
  {
   "cell_type": "code",
   "execution_count": null,
   "metadata": {},
   "outputs": [],
   "source": [
    "# Run training for the given number of steps.\n",
    "for step, (batch_x, batch_y) in enumerate(train_data.take(training_steps), 1):  \n",
    "    #enumerate（）枚举函数，第二个参数表示枚举计数从1开始算\n",
    "    #如果a是一个numpy array，a.take(m,1)表示取每一行的第m个值；a.take(m,0)表示取第m行\n",
    "    batch_y_int = np.empty(len(batch_y))\n",
    "    #将标签batch_y从str转换为int格式\n",
    "    for i in range(len(batch_y)):\n",
    "        temp_value = batch_y[i]\n",
    "        batch_y_int[i] = int(float(temp_value))\n",
    "    \n",
    "    # Run the optimization to update W and b values.\n",
    "    run_optimization(batch_x, batch_y_int)\n",
    "    \n",
    "    if step % display_step == 0:\n",
    "        pred = lstm_net(batch_x, is_training=True)  #is_training用来设定是否边训练边验证\n",
    "        loss = cross_entropy_loss(pred, batch_y_int)\n",
    "        acc = accuracy(pred, batch_y_int)   #这里好像没有使用测试集\n",
    "        print(\"step: %i, loss: %f, accuracy: %f\" % (step, loss, acc))"
   ]
  },
  {
   "cell_type": "code",
   "execution_count": 127,
   "metadata": {},
   "outputs": [
    {
     "name": "stdout",
     "output_type": "stream",
     "text": [
      "test accuracy:0.861298\n"
     ]
    }
   ],
   "source": [
    "#模型评估\n",
    "m = tf.keras.metrics.SparseCategoricalAccuracy()\n",
    "num_battches = int(len(ids_test)//batch_size)\n",
    "\n",
    "for batch_index in range(num_battches):\n",
    "    start_index,end_index = batch_index*batch_size,(batch_index+1)*batch_size\n",
    "    y_pred = lstm_net.predict(total_test_data[start_index:end_index])\n",
    "    batch_labels = np.empty(end_index-start_index)\n",
    "    for j in range(end_index-start_index):\n",
    "        temp_value = total_test_labels[start_index+j]\n",
    "        batch_labels[j] = int(float(temp_value))\n",
    "        \n",
    "    m.update_state(y_true = batch_labels,y_pred = y_pred)\n",
    "    \n",
    "print(\"test accuracy:%f\"%m.result())"
   ]
  }
 ],
 "metadata": {
  "kernelspec": {
   "display_name": "Python 3",
   "language": "python",
   "name": "python3"
  },
  "language_info": {
   "codemirror_mode": {
    "name": "ipython",
    "version": 3
   },
   "file_extension": ".py",
   "mimetype": "text/x-python",
   "name": "python",
   "nbconvert_exporter": "python",
   "pygments_lexer": "ipython3",
   "version": "3.8.3"
  },
  "varInspector": {
   "cols": {
    "lenName": 16,
    "lenType": 16,
    "lenVar": 40
   },
   "kernels_config": {
    "python": {
     "delete_cmd_postfix": "",
     "delete_cmd_prefix": "del ",
     "library": "var_list.py",
     "varRefreshCmd": "print(var_dic_list())"
    },
    "r": {
     "delete_cmd_postfix": ") ",
     "delete_cmd_prefix": "rm(",
     "library": "var_list.r",
     "varRefreshCmd": "cat(var_dic_list()) "
    }
   },
   "position": {
    "height": "216.391px",
    "left": "1255px",
    "right": "20px",
    "top": "282px",
    "width": "749px"
   },
   "types_to_exclude": [
    "module",
    "function",
    "builtin_function_or_method",
    "instance",
    "_Feature"
   ],
   "window_display": true
  }
 },
 "nbformat": 4,
 "nbformat_minor": 4
}
